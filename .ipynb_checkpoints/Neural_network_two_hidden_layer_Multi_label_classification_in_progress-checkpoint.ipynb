{
 "cells": [
  {
   "cell_type": "code",
   "execution_count": 1,
   "metadata": {},
   "outputs": [
    {
     "data": {
      "text/plain": [
       "'\\nAuthor: Sushant Kumar Seet, IIT Madras\\n'"
      ]
     },
     "execution_count": 1,
     "metadata": {},
     "output_type": "execute_result"
    }
   ],
   "source": [
    "\"\"\"\n",
    "Author: Sushant Kumar Seet, IIT Madras\n",
    "\"\"\""
   ]
  },
  {
   "cell_type": "code",
   "execution_count": 5,
   "metadata": {
    "collapsed": true
   },
   "outputs": [],
   "source": [
    "import numpy as np\n",
    "import  matplotlib.pyplot as plt \n",
    "%matplotlib inline"
   ]
  },
  {
   "cell_type": "code",
   "execution_count": 21,
   "metadata": {
    "collapsed": true
   },
   "outputs": [],
   "source": [
    "class Neural_Network(object):\n",
    "    \n",
    "    #initialization\n",
    "    def __init__(self, W1, W2, W3, b1, b2, b3, activationtype, losstype, weight_update_rule, learning_rate):\n",
    "        \n",
    "        #Activation\n",
    "        self.activationtype = activationtype\n",
    "        \n",
    "        #Loss\n",
    "        self.losstype = losstype\n",
    "        \n",
    "        #Weight update rule\n",
    "        self.weight_update_rule = weight_update_rule\n",
    "        \n",
    "        #Learning Rate\n",
    "        self.learning_rate = learning_rate\n",
    "        \n",
    "        #Parameters\n",
    "        self.inputsize = 32\n",
    "        self.hidden2size = 150\n",
    "        self.hidden1size = 150\n",
    "        self.outputsize = 6\n",
    "        \n",
    "        #Weights\n",
    "        self.W1 = W1\n",
    "        self.b1 = b1\n",
    "        self.W2 = W2 \n",
    "        self.b2 = b2\n",
    "        self.W3 = W3\n",
    "        self.b3 = b3\n",
    "        \n",
    "        #Ada_grad and RMS_prop Stuff\n",
    "        #r_w(m)\n",
    "        self.W1_cache = np.zeros((self.inputsize,self.hidden1size))\n",
    "        self.b1_cache = np.zeros((1,self.hidden1size))\n",
    "        self.W2_cache = np.zeros((self.hidden1size, self.hidden2size))\n",
    "        self.b2_cache = np.zeros((1,self.hidden2size))\n",
    "        self.W3_cache = np.zeros((self.hidden2size, self.outputsize))\n",
    "        self.b3_cache = np.zeros((1,self.outputsize))\n",
    "        \n",
    "        #Adam Stuff\n",
    "        self.W1_s = np.zeros((self.inputsize,self.hidden1size))\n",
    "        self.b1_s = np.zeros((1,self.hidden1size))\n",
    "        self.W2_s = np.zeros((self.hidden1size, self.hidden2size))\n",
    "        self.b2_s = np.zeros((1,self.hidden2size))\n",
    "        self.W3_s = np.zeros((self.hidden2size, self.outputsize))\n",
    "        self.b3_s = np.zeros((1,self.outputsize))\n",
    "        \n",
    "        self.W1_r = np.zeros((self.inputsize,self.hidden1size))\n",
    "        self.b1_r = np.zeros((1,self.hidden1size))\n",
    "        self.W2_r = np.zeros((self.hidden1size, self.hidden2size))\n",
    "        self.b2_r = np.zeros((1,self.hidden2size))\n",
    "        self.W3_r = np.zeros((self.hidden2size, self.outputsize))\n",
    "        self.b3_r = np.zeros((1,self.outputsize))\n",
    "        \n",
    "        self.t = 1\n",
    "        \n",
    "        \n",
    "    ################################## Activations and their derivatives ##############################\n",
    "    \n",
    "    def activation(self,z):\n",
    "    \n",
    "        if self.activationtype == \"Logistic\":\n",
    "            beta = 1\n",
    "            return 1/(1+np.exp(-(beta*z)))\n",
    "\n",
    "        if self.activationtype == \"Tanh\":\n",
    "            return np.tanh(z)\n",
    "\n",
    "        if self.activationtype == \"ReLU\":\n",
    "            for i in range(0, len(z)):\n",
    "                for k in range(0, len(z[i])):\n",
    "                    if z[i][k] > 0:\n",
    "                        pass\n",
    "                    else:\n",
    "                        z[i][k] = 0\n",
    "            return z\n",
    "    \n",
    "    def activation_derivative(self,a):\n",
    "\n",
    "        if self.activationtype == \"Logistic\":\n",
    "            return np.multiply(a, (1.0 - a))\n",
    "\n",
    "        if self.activationtype == \"Tanh\":\n",
    "            return 1.0 - a**2 \n",
    "\n",
    "        if self.activationtype == \"ReLU\":\n",
    "            for i in range(0, len(a)):\n",
    "                for k in range(0, len(a[i])):\n",
    "                    if a[i][k] > 0:\n",
    "                        a[i][k] = 1.0\n",
    "                    else:\n",
    "                        a[i][k] = 0\n",
    "            return a\n",
    "    #####################################################################################################\n",
    "    \n",
    "    def Logistic(self, z):    \n",
    "        beta = 1\n",
    "        return 1/(1+np.exp(-(beta*z)))\n",
    "        \n",
    "    def Logistic_derivative(self, a):\n",
    "        return np.multiply(a, (1.0 - a))\n",
    "    ######################################################################################################\n",
    "    ################################# Loss Functions and their derivatives ################################\n",
    "    \n",
    "    def Loss_function(self,y,y_hat):\n",
    "        \n",
    "        if self.losstype == \"SSE\":\n",
    "            loss = (1/2)*(np.square(y-y_hat).mean(axis = 0))\n",
    "            return np.sum(loss, axis = 0)\n",
    "        \n",
    "        if self.losstype == \"Cross_entropy\":\n",
    "            minval = 1e-12\n",
    "            m = y.shape[0]\n",
    "            loss = -1/m * np.sum(y * np.log(y_hat.clip(min=minval)))\n",
    "            return loss\n",
    "            \n",
    "        \n",
    "    \n",
    "    def Loss_function_derivative(self,y,y_hat):\n",
    "        \n",
    "        if self.losstype == \"SSE\":\n",
    "            return (y_hat-y)\n",
    "        \n",
    "        if self.losstype == \"Cross_entropy\":\n",
    "            return (y_hat-y)\n",
    "    \n",
    "    #################################################################################\n",
    "    ################################ Forward propagation ###########################\n",
    "    def Forward_prop(self, X):\n",
    "        \n",
    "        self.a0 = X\n",
    "        z1 = self.a0.dot(self.W1) + self.b1\n",
    "        self.a1 = self.activation(z1)\n",
    "        z2 = self.a1.dot(self.W2) + self.b2\n",
    "        self.a2 = self.activation(z2)\n",
    "        z3 = self.a2.dot(self.W3) + self.b3\n",
    "        self.a3 = self.Logistic(z3)\n",
    "\n",
    "        return self.a3\n",
    "        \n",
    "    def predict(self, X):                  \n",
    "        y_hat = self.Forward_prop(X)\n",
    "        y_hat = np.where(y_hat>0.5,1,0)\n",
    "        return y_hat\n",
    "    \n",
    "    ###################################################################################\n",
    "    #################################### Backward propagation #########################\n",
    "    def Backward_prop(self, y):\n",
    "        \n",
    "        if self.weight_update_rule == \"Delta_rule\":\n",
    "            m = y.shape[0]\n",
    "\n",
    "            #Calculate Gradients\n",
    "            dz3 = np.multiply(self.Loss_function_derivative(y,self.a3),self.Logistic_derivative(self.a3))\n",
    "            self.delta_W3 = 1/m*(self.a2.T).dot(dz3)\n",
    "            self.delta_b3 = 1/m*np.sum(dz3, axis=0)\n",
    "\n",
    "            dz2 = np.multiply(dz3.dot(self.W3.T) ,self.activation_derivative(self.a2))\n",
    "            self.delta_W2 = 1/m*np.dot(self.a1.T, dz2)\n",
    "            self.delta_b2 = 1/m*np.sum(dz2, axis=0)\n",
    "\n",
    "            dz1 = np.multiply(dz2.dot(self.W2.T),self.activation_derivative(self.a1))\n",
    "            self.delta_W1 = 1/m*np.dot(self.a0.T,dz1)\n",
    "            self.delta_b1 = 1/m*np.sum(dz1,axis=0)\n",
    "\n",
    "            #Update weights and bias\n",
    "            self.W1 -= self.learning_rate * self.delta_W1\n",
    "            self.b1 -= self.learning_rate * self.delta_b1\n",
    "            self.W2 -= self.learning_rate * self.delta_W2\n",
    "            self.b2 -= self.learning_rate * self.delta_b2\n",
    "            self.W3 -= self.learning_rate * self.delta_W3\n",
    "            self.b3 -= self.learning_rate * self.delta_b3\n",
    "        \n",
    "        if self.weight_update_rule == \"Generalized_delta\":\n",
    "            m = y.shape[0]\n",
    "            alpha = 0.1\n",
    "\n",
    "            #Calculate Gradients\n",
    "            dz3 = np.multiply(self.Loss_function_derivative(y,self.a3),self.Logistic_derivative(self.a3))\n",
    "            self.delta_W3 = 1/m*(self.a2.T).dot(dz3)\n",
    "            self.delta_b3 = 1/m*np.sum(dz3, axis=0)\n",
    "\n",
    "            dz2 = np.multiply(dz3.dot(self.W3.T) ,self.activation_derivative(self.a2))\n",
    "            self.delta_W2 = 1/m*np.dot(self.a1.T, dz2)\n",
    "            self.delta_b2 = 1/m*np.sum(dz2, axis=0)\n",
    "\n",
    "            dz1 = np.multiply(dz2.dot(self.W2.T),self.activation_derivative(self.a1))\n",
    "            self.delta_W1 = 1/m*np.dot(self.a0.T,dz1)\n",
    "            self.delta_b1 = 1/m*np.sum(dz1,axis=0)\n",
    "            \n",
    "            #Update weights and bias\n",
    "            self.W1 -= self.learning_rate * (self.delta_W1 + alpha * self.W1_cache)\n",
    "            self.b1 -= self.learning_rate * (self.delta_b1 + alpha * self.b1_cache)\n",
    "            self.W2 -= self.learning_rate * (self.delta_W2 + alpha * self.W2_cache)\n",
    "            self.b2 -= self.learning_rate * (self.delta_b2 + alpha * self.b2_cache)\n",
    "            self.W3 -= self.learning_rate * (self.delta_W3 + alpha * self.W3_cache)\n",
    "            self.b3 -= self.learning_rate * (self.delta_b3 + alpha * self.b3_cache)\n",
    "            \n",
    "            #Update cache\n",
    "            self.W1_cache = self.delta_W1\n",
    "            self.b1_cache = self.delta_b1\n",
    "            self.W2_cache = self.delta_W2\n",
    "            self.b2_cache = self.delta_b2\n",
    "            self.W3_cache = self.delta_W3\n",
    "            self.b3_cache = self.delta_b3\n",
    "            \n",
    "        \n",
    "            \n",
    "        if self.weight_update_rule == \"Ada_grad\":\n",
    "            \n",
    "            m = y.shape[0]\n",
    "            eps = 1e-8\n",
    "\n",
    "            #Calculate Gradients\n",
    "            dz3 = np.multiply(self.Loss_function_derivative(y,self.a3),self.Logistic_derivative(self.a3))\n",
    "            self.delta_W3 = 1/m*(self.a2.T).dot(dz3)\n",
    "            self.delta_b3 = 1/m*np.sum(dz3, axis=0)\n",
    "\n",
    "            dz2 = np.multiply(dz3.dot(self.W3.T) ,self.activation_derivative(self.a2))\n",
    "            self.delta_W2 = 1/m*np.dot(self.a1.T, dz2)\n",
    "            self.delta_b2 = 1/m*np.sum(dz2, axis=0)\n",
    "\n",
    "            dz1 = np.multiply(dz2.dot(self.W2.T),self.activation_derivative(self.a1))\n",
    "            self.delta_W1 = 1/m*np.dot(self.a0.T,dz1)\n",
    "            self.delta_b1 = 1/m*np.sum(dz1,axis=0)\n",
    "            \n",
    "            #Update cache\n",
    "            self.W1_cache += (self.delta_W1)**2\n",
    "            self.b1_cache += (self.delta_b1)**2\n",
    "            self.W2_cache += (self.delta_W2)**2\n",
    "            self.b2_cache += (self.delta_b2)**2\n",
    "            self.W3_cache += (self.delta_W3)**2\n",
    "            self.b3_cache += (self.delta_b3)**2\n",
    "            \n",
    "                     \n",
    "            #Update weights and bias\n",
    "            self.W1 -= (self.learning_rate * self.delta_W1)/(np.sqrt(self.W1_cache) + eps)\n",
    "            self.b1 -= (self.learning_rate * self.delta_b1)/(np.sqrt(self.b1_cache) + eps)\n",
    "            self.W2 -= (self.learning_rate * self.delta_W2)/(np.sqrt(self.W2_cache) + eps)\n",
    "            self.b2 -= (self.learning_rate * self.delta_b2)/(np.sqrt(self.b2_cache) + eps)\n",
    "            self.W3 -= (self.learning_rate * self.delta_W3)/(np.sqrt(self.W3_cache) + eps)\n",
    "            self.b3 -= (self.learning_rate * self.delta_b3)/(np.sqrt(self.b3_cache) + eps)\n",
    "            \n",
    "        if self.weight_update_rule == \"RMS_prop\":\n",
    "            \n",
    "            m = y.shape[0]\n",
    "            eps = 1e-8\n",
    "            rho = 0.9\n",
    "\n",
    "            #Calculate Gradients\n",
    "            dz3 = np.multiply(self.Loss_function_derivative(y,self.a3),self.Logistic_derivative(self.a3))\n",
    "            self.delta_W3 = 1/m*(self.a2.T).dot(dz3)\n",
    "            self.delta_b3 = 1/m*np.sum(dz3, axis=0)\n",
    "\n",
    "            dz2 = np.multiply(dz3.dot(self.W3.T) ,self.activation_derivative(self.a2))\n",
    "            self.delta_W2 = 1/m*np.dot(self.a1.T, dz2)\n",
    "            self.delta_b2 = 1/m*np.sum(dz2, axis=0)\n",
    "\n",
    "            dz1 = np.multiply(dz2.dot(self.W2.T),self.activation_derivative(self.a1))\n",
    "            self.delta_W1 = 1/m*np.dot(self.a0.T,dz1)\n",
    "            self.delta_b1 = 1/m*np.sum(dz1,axis=0)\n",
    "            \n",
    "            #Update cache\n",
    "            self.W1_cache = rho*self.W1_cache + (1 - rho)*((self.delta_W1)**2)\n",
    "            self.b1_cache = rho*self.b1_cache + (1 - rho)*((self.delta_b1)**2)\n",
    "            self.W2_cache = rho*self.W2_cache + (1 - rho)*((self.delta_W2)**2)\n",
    "            self.b2_cache = rho*self.b2_cache + (1 - rho)*((self.delta_b2)**2)\n",
    "            self.W3_cache = rho*self.W3_cache + (1 - rho)*((self.delta_W3)**2)\n",
    "            self.b3_cache = rho*self.b3_cache + (1 - rho)*((self.delta_b3)**2)\n",
    "            \n",
    "            #Update weights and bias\n",
    "            self.W1 -= (self.learning_rate * self.delta_W1)/(np.sqrt(self.W1_cache) + eps)\n",
    "            self.b1 -= (self.learning_rate * self.delta_b1)/(np.sqrt(self.b1_cache) + eps)\n",
    "            self.W2 -= (self.learning_rate * self.delta_W2)/(np.sqrt(self.W2_cache) + eps)\n",
    "            self.b2 -= (self.learning_rate * self.delta_b2)/(np.sqrt(self.b2_cache) + eps)\n",
    "            self.W3 -= (self.learning_rate * self.delta_W3)/(np.sqrt(self.W3_cache) + eps)\n",
    "            self.b3 -= (self.learning_rate * self.delta_b3)/(np.sqrt(self.b3_cache) + eps)\n",
    "            \n",
    "        if self.weight_update_rule == \"Adam\":\n",
    "            \n",
    "            m = y.shape[0]\n",
    "            eps = 1e-8\n",
    "            rho1 = 0.9\n",
    "            rho2 = 0.999\n",
    "            \n",
    "            #Calculate Gradients\n",
    "            dz3 = np.multiply(self.Loss_function_derivative(y,self.a3),self.Logistic_derivative(self.a3))\n",
    "            self.delta_W3 = 1/m*(self.a2.T).dot(dz3)\n",
    "            self.delta_b3 = 1/m*np.sum(dz3, axis=0)\n",
    "\n",
    "            dz2 = np.multiply(dz3.dot(self.W3.T) ,self.activation_derivative(self.a2))\n",
    "            self.delta_W2 = 1/m*np.dot(self.a1.T, dz2)\n",
    "            self.delta_b2 = 1/m*np.sum(dz2, axis=0)\n",
    "\n",
    "            dz1 = np.multiply(dz2.dot(self.W2.T),self.activation_derivative(self.a1))\n",
    "            self.delta_W1 = 1/m*np.dot(self.a0.T,dz1)\n",
    "            self.delta_b1 = 1/m*np.sum(dz1,axis=0)\n",
    "            \n",
    "            \n",
    "            self.W1_s = rho1*self.W1_s + (1-rho1)*self.delta_W1\n",
    "            self.b1_s = rho1*self.b1_s + (1-rho1)*self.delta_b1\n",
    "            self.W2_s = rho1*self.W2_s + (1-rho1)*self.delta_W2\n",
    "            self.b2_s = rho1*self.b2_s + (1-rho1)*self.delta_b2\n",
    "            self.W3_s = rho1*self.W3_s + (1-rho1)*self.delta_W3\n",
    "            self.b3_s = rho1*self.b3_s + (1-rho1)*self.delta_b3\n",
    "\n",
    "            self.W1_r = rho2*self.W1_r + (1-rho2)*((self.delta_W1)**2)\n",
    "            self.b1_r = rho2*self.b1_r + (1-rho2)*((self.delta_b1)**2)\n",
    "            self.W2_r = rho2*self.W2_r + (1-rho2)*((self.delta_W2)**2)\n",
    "            self.b2_r = rho2*self.b2_r + (1-rho2)*((self.delta_b2)**2)\n",
    "            self.W3_r = rho2*self.W3_r + (1-rho2)*((self.delta_W3)**2)\n",
    "            self.b3_r = rho2*self.b3_r + (1-rho2)*((self.delta_b3)**2)\n",
    "            \n",
    "            W1_s_hat = (self.W1_s)/(1-np.power(rho1,self.t))\n",
    "            b1_s_hat = (self.b1_s)/(1-np.power(rho1,self.t))\n",
    "            W2_s_hat = (self.W2_s)/(1-np.power(rho1,self.t))\n",
    "            b2_s_hat = (self.b2_s)/(1-np.power(rho1,self.t))\n",
    "            W3_s_hat = (self.W3_s)/(1-np.power(rho1,self.t))\n",
    "            b3_s_hat = (self.b3_s)/(1-np.power(rho1,self.t))\n",
    "\n",
    "            W1_r_hat = (self.W1_r)/(1-np.power(rho2,self.t))\n",
    "            b1_r_hat = (self.b1_r)/(1-np.power(rho2,self.t))\n",
    "            W2_r_hat = (self.W2_r)/(1-np.power(rho2,self.t))\n",
    "            b2_r_hat = (self.b2_r)/(1-np.power(rho2,self.t))\n",
    "            W3_r_hat = (self.W3_r)/(1-np.power(rho2,self.t))\n",
    "            b3_r_hat = (self.b3_r)/(1-np.power(rho2,self.t))\n",
    "            \n",
    "            self.t = self.t + 1\n",
    "            \n",
    "            #Update weights and bias\n",
    "            self.W1 -= (self.learning_rate * W1_s_hat)/(np.sqrt(np.where(W1_r_hat<0, 0, W1_r_hat)) + eps)\n",
    "            self.b1 -= (self.learning_rate * b1_s_hat)/(np.sqrt(np.where(b1_r_hat<0, 0, b1_r_hat)) + eps)\n",
    "            self.W2 -= (self.learning_rate * W2_s_hat)/(np.sqrt(np.where(W2_r_hat<0, 0, W2_r_hat)) + eps)\n",
    "            self.b2 -= (self.learning_rate * b2_s_hat)/(np.sqrt(np.where(b2_r_hat<0, 0, b2_r_hat)) + eps)\n",
    "            self.W3 -= (self.learning_rate * W3_s_hat)/(np.sqrt(np.where(W3_r_hat<0, 0, W3_r_hat)) + eps)\n",
    "            self.b3 -= (self.learning_rate * b3_s_hat)/(np.sqrt(np.where(b3_r_hat<0, 0, b3_r_hat)) + eps)       \n",
    "            \n",
    "        \n",
    "    ########################################################################################\n",
    "    \n",
    "    ################################# Train Neural Network ##################################\n",
    "    \n",
    "    def Train(self, mode, X_train, y_train, X_test,y_test, max_epoch):\n",
    "        \n",
    "        if mode == \"Pattern\":\n",
    "            m = len(X_train)\n",
    "            n = len(X_test)\n",
    "            self.loss_train = []\n",
    "            self.loss_test = []\n",
    "            self.epoch = []\n",
    "            epoch_count = 0\n",
    "            while epoch_count < max_epoch:\n",
    "                \n",
    "                epoch_count = epoch_count + 1\n",
    "                self.epoch.append(epoch_count)\n",
    "                error_train = [] \n",
    "                error_test = [] \n",
    "                \n",
    "                for i in range(n):\n",
    "                                      \n",
    "                    y_hat_test = self.Forward_prop(X_test[i].reshape(1,self.inputsize))\n",
    "                    l_test = self.Loss_function(y_test[i].reshape(1,self.outputsize),y_hat_test)\n",
    "                    \n",
    "                    error_test.append(l_test.copy())\n",
    "                er = np.mean(error_test)    \n",
    "                self.loss_test.append(er)\n",
    "                \n",
    "                for i in range(m):\n",
    "                                      \n",
    "                    y_hat_train = self.Forward_prop(X_train[i].reshape(1,self.inputsize))\n",
    "                    l = self.Loss_function(y_train[i].reshape(1,self.outputsize),y_hat_train)\n",
    "                    self.Backward_prop(y_train[i].reshape(1,self.outputsize))\n",
    "                    \n",
    "                    error_train.append(l.copy())\n",
    "                er = np.mean(error_train)    \n",
    "                self.loss_train.append(er)\n",
    "                \n",
    "                if epoch_count >2:\n",
    "                    if np.abs(self.loss_test[epoch_count-2] - self.loss_test[epoch_count -1]) < 1e-7 :\n",
    "                        number_of_epochs = epoch_count\n",
    "                        print(\"Number of epochs for convergence =\", number_of_epochs)\n",
    "                        break\n",
    "                        \n",
    "            #plt.plot( self.epoch,self.loss_train)\n",
    "            #plt.plot( self.epoch,self.loss_test)\n",
    "            #plt.xlabel(\"No. of epochs\")\n",
    "            #plt.ylabel(\"MSE\")\n",
    "            \n",
    "                    \n",
    "        if mode == \"Batch\" :\n",
    "            m = len(X_train)\n",
    "            n = len(X_test)\n",
    "            self.loss_train = []\n",
    "            self.loss_test = []\n",
    "            self.epoch = []\n",
    "            epoch_count = 0\n",
    "            while epoch_count < max_epoch:\n",
    "                \n",
    "                epoch_count = epoch_count + 1\n",
    "                self.epoch.append(epoch_count)\n",
    "                \n",
    "                y_hat_test = self.Forward_prop(X_test.reshape(n,self.inputsize))\n",
    "                l_test = self.Loss_function(y_test.reshape(n,self.outputsize),y_hat_test)\n",
    "                self.loss_test.append(l_test.copy())\n",
    "                \n",
    "                y_hat_train = self.Forward_prop(X_train.reshape(m,self.inputsize))                   \n",
    "                l = self.Loss_function(y_train.reshape(m,self.outputsize),y_hat_train) \n",
    "                self.loss_train.append(l.copy())\n",
    "                \n",
    "                if epoch_count >2:\n",
    "                    if np.abs(self.loss_test[epoch_count-2] - self.loss_test[epoch_count -1]) < 1e-7 :\n",
    "                        number_of_epochs = epoch_count\n",
    "                        print(\"Number of epochs for convergence =\", number_of_epochs)\n",
    "                        break\n",
    "                        \n",
    "                self.Backward_prop(y_train.reshape(m,self.outputsize))\n",
    "                \n",
    "                \n",
    "            plt.plot( self.epoch,self.loss_train)\n",
    "            plt.plot( self.epoch,self.loss_test)\n",
    "            plt.xlabel(\"No. of epochs\")\n",
    "            plt.ylabel(\"MSE\")"
   ]
  },
  {
   "cell_type": "code",
   "execution_count": 18,
   "metadata": {
    "collapsed": true
   },
   "outputs": [],
   "source": [
    "def precisition_recall_fscore(y, y_hat):\n",
    "    from sklearn.metrics import precision_score\n",
    "    from sklearn.metrics import recall_score\n",
    "    precision = precision_score(y, y_hat, average = 'samples')\n",
    "    recall = recall_score(y, y_hat, average = 'samples')\n",
    "    fmeasure = 2*(precision*recall)/(precision+recall)\n",
    "    print(\"precision = \",precision)\n",
    "    print(\"recall = \", recall)\n",
    "    print(\"F_measure =\",fmeasure)"
   ]
  },
  {
   "cell_type": "code",
   "execution_count": 7,
   "metadata": {
    "collapsed": true
   },
   "outputs": [],
   "source": [
    "np.random.seed(0)\n",
    "path =\"F:/Deep Learning/Assignment 1/Multi-label_team_1-6/Multi-label_team_1-6/5/\"\n",
    "X = np.loadtxt(open(path + \"X.csv\", \"rb\"), delimiter=\",\", skiprows=1)\n",
    "Y = np.loadtxt(open(path + \"Y.csv\", \"rb\"), delimiter=\",\", skiprows=1)"
   ]
  },
  {
   "cell_type": "code",
   "execution_count": 8,
   "metadata": {
    "collapsed": true
   },
   "outputs": [],
   "source": [
    "############ min max normalization ######################## \n",
    "X = (X - X.min(axis = 0))/(X.max(axis = 0) - X.min(axis = 0))"
   ]
  },
  {
   "cell_type": "code",
   "execution_count": 9,
   "metadata": {
    "collapsed": true
   },
   "outputs": [],
   "source": [
    "nx, ny = X.shape\n",
    "index = np.random.random((nx,)) <= 0.7\n",
    "\n",
    "X_train = X[index]\n",
    "y_train = Y[index]\n",
    "\n",
    "X_test = X[~index]\n",
    "y_test = Y[~index]"
   ]
  },
  {
   "cell_type": "code",
   "execution_count": 10,
   "metadata": {
    "collapsed": true
   },
   "outputs": [],
   "source": [
    "group_5 = [\"flowers\",\"sunset\",\"window\",\"buildings\",\"sky\",\"person\"]"
   ]
  },
  {
   "cell_type": "code",
   "execution_count": 26,
   "metadata": {
    "collapsed": true
   },
   "outputs": [],
   "source": [
    "np.random.seed(1)\n",
    "var = np.sqrt(2/(182))\n",
    "W1 = np.random.normal(0, var, (32, 150))\n",
    "b1 = np.random.normal(0, var, (1, 150 ))\n",
    "\n",
    "var = np.sqrt(2/(300))\n",
    "W2 = np.random.normal(0, var, (150, 150))\n",
    "b2 = np.random.normal(0, var, (1, 150))\n",
    "\n",
    "var = np.sqrt(2/(156))\n",
    "W3 = np.random.normal(0, var, (150, 6))\n",
    "b3 = np.random.normal(0, var, (1, 6 ))"
   ]
  },
  {
   "cell_type": "code",
   "execution_count": 16,
   "metadata": {},
   "outputs": [
    {
     "data": {
      "image/png": "[encoded data removed]",
      "text/plain": [
       "<Figure size 432x288 with 1 Axes>"
      ]
     },
     "metadata": {},
     "output_type": "display_data"
    }
   ],
   "source": [
    "NN = Neural_Network(W1,W2, W3, b1,b2,b3, \"Tanh\", \"SSE\", \"RMS_prop\", 0.0001)\n",
    "NN.Train(\"Batch\",X_train,y_train,X_test,y_test, 5000)"
   ]
  },
  {
   "cell_type": "code",
   "execution_count": 19,
   "metadata": {},
   "outputs": [
    {
     "name": "stdout",
     "output_type": "stream",
     "text": [
      "precision =  0.7589878580914438\n",
      "recall =  0.5935543540125213\n",
      "F_measure = 0.6661537714405703\n"
     ]
    },
    {
     "name": "stderr",
     "output_type": "stream",
     "text": [
      "C:\\Users\\Sushant\\Anaconda3\\lib\\site-packages\\sklearn\\metrics\\classification.py:1135: UndefinedMetricWarning: Precision is ill-defined and being set to 0.0 in samples with no predicted labels.\n",
      "  'precision', 'predicted', average, warn_for)\n"
     ]
    }
   ],
   "source": [
    "y_hat = NN.predict(X_train) \n",
    "precisition_recall_fscore(y_train,y_hat)"
   ]
  },
  {
   "cell_type": "code",
   "execution_count": 28,
   "metadata": {},
   "outputs": [
    {
     "data": {
      "image/png": "[encoded data removed]",
      "text/plain": [
       "<Figure size 432x288 with 1 Axes>"
      ]
     },
     "metadata": {},
     "output_type": "display_data"
    }
   ],
   "source": [
    "NN1 = Neural_Network(W1,W2, W3, b1,b2,b3, \"Logistic\", \"SSE\", \"RMS_prop\", 0.0001)\n",
    "NN1.Train(\"Batch\",X_train,y_train,X_test,y_test, 5000)"
   ]
  },
  {
   "cell_type": "code",
   "execution_count": 89,
   "metadata": {},
   "outputs": [
    {
     "data": {
      "image/png": "[encoded data removed]",
      "text/plain": [
       "<Figure size 432x288 with 1 Axes>"
      ]
     },
     "metadata": {},
     "output_type": "display_data"
    }
   ],
   "source": [
    "NN_norm_tanh = Neural_Network(W1,W2, W3, b1,b2,b3, \"Tanh\", \"SSE\", \"RMS_prop\", 0.01)\n",
    "NN_norm_tanh.Train(\"Batch\",X_train,y_train,X_test,y_test, 1000)"
   ]
  },
  {
   "cell_type": "code",
   "execution_count": 92,
   "metadata": {},
   "outputs": [
    {
     "data": {
      "image/png": "[encoded data removed]",
      "text/plain": [
       "<Figure size 432x288 with 1 Axes>"
      ]
     },
     "metadata": {},
     "output_type": "display_data"
    }
   ],
   "source": [
    "NN_norm_ReLU = Neural_Network(W1,W2, W3, b1,b2,b3, \"ReLU\", \"SSE\", \"RMS_prop\", 0.01)\n",
    "NN_norm_ReLU.Train(\"Batch\",X_train,y_train,X_test,y_test, 50)"
   ]
  },
  {
   "cell_type": "code",
   "execution_count": 147,
   "metadata": {},
   "outputs": [
    {
     "data": {
      "image/png": "[encoded data removed]",
      "text/plain": [
       "<Figure size 432x288 with 1 Axes>"
      ]
     },
     "metadata": {},
     "output_type": "display_data"
    }
   ],
   "source": [
    "NN3 = Neural_Network(W1,W2, W3, b1,b2,b3, \"Tanh\", \"SSE\", \"Ada_grad\", 0.01)\n",
    "NN3.Train(\"Batch\",X_train,y_train,X_test,y_test, 200)"
   ]
  },
  {
   "cell_type": "code",
   "execution_count": 153,
   "metadata": {},
   "outputs": [
    {
     "name": "stdout",
     "output_type": "stream",
     "text": [
      "precision =  0.7650232403718459\n",
      "recall =  0.6047476759628153\n",
      "F_measure = 0.675508614112497\n"
     ]
    },
    {
     "name": "stderr",
     "output_type": "stream",
     "text": [
      "C:\\Users\\Sushant\\Anaconda3\\lib\\site-packages\\sklearn\\metrics\\classification.py:1135: UndefinedMetricWarning: Precision is ill-defined and being set to 0.0 in samples with no predicted labels.\n",
      "  'precision', 'predicted', average, warn_for)\n"
     ]
    }
   ],
   "source": [
    "y_hat = NN_12.predict(X_train) \n",
    "precisition_recall_fscore(y_train,y_hat)"
   ]
  },
  {
   "cell_type": "code",
   "execution_count": null,
   "metadata": {
    "collapsed": true
   },
   "outputs": [],
   "source": []
  }
 ],
 "metadata": {
  "kernelspec": {
   "display_name": "Python 3",
   "language": "python",
   "name": "python3"
  },
  "language_info": {
   "codemirror_mode": {
    "name": "ipython",
    "version": 3
   },
   "file_extension": ".py",
   "mimetype": "text/x-python",
   "name": "python",
   "nbconvert_exporter": "python",
   "pygments_lexer": "ipython3",
   "version": "3.6.3"
  }
 },
 "nbformat": 4,
 "nbformat_minor": 2
}
